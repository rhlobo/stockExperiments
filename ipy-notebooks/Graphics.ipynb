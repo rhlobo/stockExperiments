{
 "metadata": {
  "name": "Graphics"
 },
 "nbformat": 3,
 "nbformat_minor": 0,
 "worksheets": [
  {
   "cells": [
    {
     "cell_type": "code",
     "collapsed": false,
     "input": [
      "from instances import data_engine as engine"
     ],
     "language": "python",
     "metadata": {},
     "outputs": [],
     "prompt_number": 1
    },
    {
     "cell_type": "code",
     "collapsed": false,
     "input": [
      "from datasources import *"
     ],
     "language": "python",
     "metadata": {},
     "outputs": [],
     "prompt_number": 2
    },
    {
     "cell_type": "code",
     "collapsed": false,
     "input": [
      "from datetime import datetime as d"
     ],
     "language": "python",
     "metadata": {},
     "outputs": [],
     "prompt_number": 3
    },
    {
     "cell_type": "code",
     "collapsed": false,
     "input": [
      "import util.plotutils as plotutils"
     ],
     "language": "python",
     "metadata": {},
     "outputs": [],
     "prompt_number": 4
    },
    {
     "cell_type": "code",
     "collapsed": false,
     "input": [
      "plotutils.candlestick(engine, 'RAW_BOVESPA', 'PETR4', d(2000, 1, 1), d(2009, 12, 31))"
     ],
     "language": "python",
     "metadata": {},
     "outputs": [],
     "prompt_number": 5
    },
    {
     "cell_type": "code",
     "collapsed": false,
     "input": [
      "plotutils.percentual(engine, 'RAW_BOVESPA', 'PCT_CHANGE(1):RAW_BOVESPA', 'PETR4', d(2000, 1, 1), d(2009, 12, 31))"
     ],
     "language": "python",
     "metadata": {},
     "outputs": [],
     "prompt_number": 6
    },
    {
     "cell_type": "code",
     "collapsed": false,
     "input": [
      "plotutils.macd(engine, 'NORMALIZED:RAW_BOVESPA', 'MACD(12,26,9):CLOSE:NORMALIZED:RAW_BOVESPA', 'PETR4', d(2000, 1, 1), d(2009, 12, 31))"
     ],
     "language": "python",
     "metadata": {},
     "outputs": [],
     "prompt_number": 7
    },
    {
     "cell_type": "code",
     "collapsed": false,
     "input": [
      "engine.get('MACD(12,26,9):CLOSE:MONTHLY:NORMALIZED:RAW_BOVESPA').process('PETR4', d(2009, 1, 1), d(2009, 12, 31))"
     ],
     "language": "python",
     "metadata": {},
     "outputs": [
      {
       "html": [
        "<div style=\"max-height:1000px;max-width:1500px;overflow:auto;\">\n",
        "<table border=\"1\" class=\"dataframe\">\n",
        "  <tbody>\n",
        "    <tr>\n",
        "      <td>&lt;class 'pandas.tseries.index.DatetimeIndex'&gt;\n",
        "Length: 0, Freq: None, Timezone: None</td>\n",
        "      <td>Empty DataFrame</td>\n",
        "    </tr>\n",
        "  </tbody>\n",
        "</table>\n",
        "</div>"
       ],
       "output_type": "pyout",
       "prompt_number": 8,
       "text": [
        "Empty DataFrame\n",
        "Columns: [histogram, macd, signal]\n",
        "Index: []"
       ]
      }
     ],
     "prompt_number": 8
    }
   ],
   "metadata": {}
  }
 ]
}